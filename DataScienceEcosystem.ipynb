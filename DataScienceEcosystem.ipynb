{
  "nbformat": 4,
  "nbformat_minor": 0,
  "metadata": {
    "colab": {
      "provenance": []
    },
    "kernelspec": {
      "name": "python3",
      "display_name": "Python 3"
    },
    "language_info": {
      "name": "python"
    }
  },
  "cells": [
    {
      "cell_type": "markdown",
      "source": [
        "# Data Science Tools and Ecosystem"
      ],
      "metadata": {
        "id": "Sc4Y3izqcTpa"
      }
    },
    {
      "cell_type": "markdown",
      "source": [
        "In this notebook, Data Science Tools and Ecosystem are summarized."
      ],
      "metadata": {
        "id": "SYS9_1hycYaj"
      }
    },
    {
      "cell_type": "markdown",
      "source": [
        "Some of the popular languages that Data Scientists use are:\n",
        "\n",
        "1. Python\n",
        "2. R\n",
        "3. SQL\n",
        "4. Julia\n",
        "5. Scala"
      ],
      "metadata": {
        "id": "m0i63oVKcf8F"
      }
    },
    {
      "cell_type": "markdown",
      "source": [
        "Some of the commonly used libraries used by Data Scientists include:\n",
        "\n",
        "1. Pandas\n",
        "2. NumPy\n",
        "3. Scikit-learn\n",
        "4. TensorFlow\n",
        "5. Matplotlib"
      ],
      "metadata": {
        "id": "kgG8SCKycg09"
      }
    },
    {
      "cell_type": "markdown",
      "source": [
        "| Data Science Tools |\n",
        "|--------------------|\n",
        "| Jupyter Notebook  |\n",
        "| RStudio          |\n",
        "| Apache Zeppelin  |"
      ],
      "metadata": {
        "id": "Cyeaqq7XcjQ-"
      }
    },
    {
      "cell_type": "markdown",
      "source": [
        "### Below are a few examples of evaluating arithmetic expressions in Python."
      ],
      "metadata": {
        "id": "UUhRxtAackvl"
      }
    },
    {
      "cell_type": "code",
      "source": [
        "# This is a simple arithmetic expression to multiply then add integers\n",
        "(3*4) + 5"
      ],
      "metadata": {
        "id": "Rk3fUx3qcwTW"
      },
      "execution_count": null,
      "outputs": []
    },
    {
      "cell_type": "code",
      "source": [
        "# This will convert 200 minutes to hours by dividing by 60\n",
        "200 / 60"
      ],
      "metadata": {
        "id": "Cw5ZVwHuczxh"
      },
      "execution_count": null,
      "outputs": []
    },
    {
      "cell_type": "markdown",
      "source": [
        "**Objectives:**\n",
        "- List popular languages for Data Science\n",
        "- List commonly used libraries in Data Science\n",
        "- Demonstrate arithmetic expressions in Python\n",
        "- Introduce common Data Science tools\n",
        "- Convert time units in Python"
      ],
      "metadata": {
        "id": "doiP4NiGc05-"
      }
    },
    {
      "cell_type": "markdown",
      "source": [
        "## Author\n",
        "Nicolas Cheuque"
      ],
      "metadata": {
        "id": "P1KktOpNc5PW"
      }
    }
  ]
}